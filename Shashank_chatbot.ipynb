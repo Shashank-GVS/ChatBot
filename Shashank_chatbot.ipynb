{
 "cells": [
  {
   "cell_type": "markdown",
   "metadata": {
    "_cell_guid": "f7c9afd0-9199-40ea-9151-9bf01b4dc1f7",
    "_uuid": "e1023fd6-e2d5-4375-99f7-88a3cb881f7a"
   },
   "source": [
    "## **Import and load the data file**"
   ]
  },
  {
   "cell_type": "markdown",
   "metadata": {
    "_cell_guid": "f54de43e-3d09-4f9e-920a-500ab1984499",
    "_uuid": "3cf45464-06ba-4ba7-af68-368e9ff0ba7b"
   },
   "source": [
    "We import the necessary packages for our chatbot and initialize the variables we will use in our Python project.\n",
    "The data file is in JSON format so we used the json package to parse the JSON file into Python.\n",
    "We will be using the 'Punkt' Sentence tokenizer."
   ]
  },
  {
   "cell_type": "code",
   "execution_count": null,
   "metadata": {
    "_cell_guid": "b6f80354-a2f8-4dd9-b9e4-c7c991f52fe3",
    "_uuid": "473cf18f-6f47-4e6b-b357-af295374f998",
    "execution": {
     "iopub.execute_input": "2023-10-16T03:02:32.019580Z",
     "iopub.status.busy": "2023-10-16T03:02:32.019022Z",
     "iopub.status.idle": "2023-10-16T03:02:34.379758Z",
     "shell.execute_reply": "2023-10-16T03:02:34.377823Z",
     "shell.execute_reply.started": "2023-10-16T03:02:32.019474Z"
    },
    "id": "09b08e4f",
    "jupyter": {
     "outputs_hidden": false
    },
    "outputId": "930efa0a-cb9d-4527-d869-6b432af79909"
   },
   "outputs": [],
   "source": [
    "import nltk\n",
    "nltk.download('punkt')#Sentence tokenizer"
   ]
  },
  {
   "cell_type": "code",
   "execution_count": null,
   "metadata": {
    "_cell_guid": "8e65b5b3-63f6-4a71-b58b-f2370a2a6a44",
    "_uuid": "b7c00e04-b53d-4a87-b1e2-e9877855d768",
    "execution": {
     "iopub.execute_input": "2023-10-16T03:02:34.388472Z",
     "iopub.status.busy": "2023-10-16T03:02:34.385253Z",
     "iopub.status.idle": "2023-10-16T03:02:34.403745Z",
     "shell.execute_reply": "2023-10-16T03:02:34.400708Z",
     "shell.execute_reply.started": "2023-10-16T03:02:34.388385Z"
    },
    "id": "37932349",
    "jupyter": {
     "outputs_hidden": false
    }
   },
   "outputs": [],
   "source": [
    "import nltk\n",
    "from nltk.stem import WordNetLemmatizer\n",
    "lemmatizer = WordNetLemmatizer()\n",
    "import json\n",
    "import pickle\n",
    "import warnings\n",
    "warnings.filterwarnings('ignore')"
   ]
  },
  {
   "cell_type": "code",
   "execution_count": null,
   "metadata": {
    "_cell_guid": "92cf2296-4ce6-4165-81f9-0dbcda40f874",
    "_uuid": "421b273d-bfb5-4323-b54d-cf76c7df4d1a",
    "execution": {
     "iopub.execute_input": "2023-10-16T03:02:34.409203Z",
     "iopub.status.busy": "2023-10-16T03:02:34.407138Z",
     "iopub.status.idle": "2023-10-16T03:02:44.528899Z",
     "shell.execute_reply": "2023-10-16T03:02:44.527328Z",
     "shell.execute_reply.started": "2023-10-16T03:02:34.409139Z"
    },
    "id": "29f7ae99",
    "jupyter": {
     "outputs_hidden": false
    }
   },
   "outputs": [],
   "source": [
    "import numpy as np\n",
    "import tensorflow as tf\n",
    "from keras.models import Sequential\n",
    "from keras.layers import Dense, Activation, Dropout\n",
    "from tensorflow.keras.optimizers import SGD\n",
    "import random"
   ]
  },
  {
   "cell_type": "markdown",
   "metadata": {
    "_cell_guid": "9c904655-a9de-4c2f-9c9e-7b289e7e11cf",
    "_uuid": "1c33fb56-4207-4cf5-969c-c43066d5576c",
    "id": "0ec5134c"
   },
   "source": [
    "# **Preprocessing**"
   ]
  },
  {
   "cell_type": "code",
   "execution_count": null,
   "metadata": {
    "_cell_guid": "be90b15a-872a-4ca5-9c32-368f897776f3",
    "_uuid": "c17eef56-ef40-4b4d-996e-bd67c63811d2",
    "execution": {
     "iopub.execute_input": "2023-10-16T03:02:44.531488Z",
     "iopub.status.busy": "2023-10-16T03:02:44.530676Z",
     "iopub.status.idle": "2023-10-16T03:02:44.547870Z",
     "shell.execute_reply": "2023-10-16T03:02:44.546448Z",
     "shell.execute_reply.started": "2023-10-16T03:02:44.531443Z"
    },
    "id": "2a27b3fe",
    "jupyter": {
     "outputs_hidden": false
    }
   },
   "outputs": [],
   "source": [
    "words=[]\n",
    "classes = []\n",
    "documents = []\n",
    "ignore_words = ['?', '!']\n",
    "data_file = open('/kaggle/input/chatbot-dataset/intents.json').read() # read json file\n",
    "intents = json.loads(data_file) # load json file"
   ]
  },
  {
   "cell_type": "markdown",
   "metadata": {
    "_cell_guid": "15c9a08e-5ac8-454a-b493-8c70c291930c",
    "_uuid": "df79dded-ac2b-48ef-8ca2-e51f1d82d4e2"
   },
   "source": [
    "When working with text data, we need to perform various preprocessing on the data before we make a machine learning or a deep learning model. Based on the requirements we need to apply various operations to preprocess the \n",
    "data.\n",
    "- Tokenizing is the most basic and first thing you can do on text data. \n",
    "- Tokenizing is the process of breaking the whole text into small parts like words.\n",
    "- Here we iterate through the patterns and tokenize the sentence using nltk.word_tokenize() function and append each word in the words list. We also create a list of classes for our tags."
   ]
  },
  {
   "cell_type": "code",
   "execution_count": null,
   "metadata": {
    "_cell_guid": "79abb39a-edbf-4eb9-99ef-6bdfbcdde2bc",
    "_uuid": "d6c50a3c-9f14-4159-ac58-f3687e37c5f3",
    "execution": {
     "iopub.execute_input": "2023-10-16T03:02:44.551515Z",
     "iopub.status.busy": "2023-10-16T03:02:44.550696Z",
     "iopub.status.idle": "2023-10-16T03:02:44.607549Z",
     "shell.execute_reply": "2023-10-16T03:02:44.606220Z",
     "shell.execute_reply.started": "2023-10-16T03:02:44.551470Z"
    },
    "id": "d1fce670",
    "jupyter": {
     "outputs_hidden": false
    }
   },
   "outputs": [],
   "source": [
    "for intent in intents['intents']:\n",
    "    for pattern in intent['patterns']:\n",
    "        #tokenize each word\n",
    "        w = nltk.word_tokenize(pattern)\n",
    "        words.extend(w)# add each elements into list\n",
    "        #combination between patterns and intents\n",
    "        documents.append((w, intent['tag']))#add single element into end of list\n",
    "        # add to tag in our classes list\n",
    "        if intent['tag'] not in classes:\n",
    "            classes.append(intent['tag'])"
   ]
  },
  {
   "cell_type": "code",
   "execution_count": null,
   "metadata": {
    "_cell_guid": "6d252b0c-0293-4bc5-a014-172fb7808341",
    "_uuid": "9c41cb17-63f6-47d2-8ed3-f9c30ecbf0c6",
    "execution": {
     "iopub.execute_input": "2023-10-16T03:02:44.609192Z",
     "iopub.status.busy": "2023-10-16T03:02:44.608849Z",
     "iopub.status.idle": "2023-10-16T03:02:44.690334Z",
     "shell.execute_reply": "2023-10-16T03:02:44.689260Z",
     "shell.execute_reply.started": "2023-10-16T03:02:44.609161Z"
    },
    "id": "caf5ffe1",
    "jupyter": {
     "outputs_hidden": false
    },
    "outputId": "97496bb7-e2d7-4243-d2a7-b7512e192458"
   },
   "outputs": [],
   "source": [
    "nltk.download('wordnet') #lexical database for the English language"
   ]
  },
  {
   "cell_type": "code",
   "execution_count": null,
   "metadata": {
    "_cell_guid": "692a5d2b-6d0b-48b9-a5fb-69744749a216",
    "_uuid": "d0efcb35-314d-479e-879f-358d806a7190",
    "execution": {
     "iopub.execute_input": "2023-10-16T03:02:44.692960Z",
     "iopub.status.busy": "2023-10-16T03:02:44.691509Z",
     "iopub.status.idle": "2023-10-16T03:02:44.861633Z",
     "shell.execute_reply": "2023-10-16T03:02:44.859704Z",
     "shell.execute_reply.started": "2023-10-16T03:02:44.692888Z"
    },
    "id": "1bdda46f",
    "jupyter": {
     "outputs_hidden": false
    },
    "outputId": "52603b6e-b9b7-4de9-b8ae-16edbdceea76"
   },
   "outputs": [],
   "source": [
    "nltk.download('omw-1.4')"
   ]
  },
  {
   "cell_type": "markdown",
   "metadata": {
    "_cell_guid": "58c834cd-b95a-4dc2-9106-c7215807582a",
    "_uuid": "a47365c4-f41d-445e-83f4-919522c633d5"
   },
   "source": [
    "Now we will lemmatize each word and remove duplicate words from the list. \n",
    "- Lemmatizing is the process of converting a word into its lemma form and then creating a pickle file to store the Python objects which we will use while predicting."
   ]
  },
  {
   "cell_type": "code",
   "execution_count": null,
   "metadata": {
    "_cell_guid": "377543b7-487c-4c5b-8602-dc270e6358d4",
    "_uuid": "855ea4c1-4e87-41eb-b96c-b85beb064955",
    "execution": {
     "iopub.execute_input": "2023-10-16T03:02:44.864897Z",
     "iopub.status.busy": "2023-10-16T03:02:44.864350Z",
     "iopub.status.idle": "2023-10-16T03:02:47.270631Z",
     "shell.execute_reply": "2023-10-16T03:02:47.269267Z",
     "shell.execute_reply.started": "2023-10-16T03:02:44.864830Z"
    },
    "id": "6dbaf343",
    "jupyter": {
     "outputs_hidden": false
    },
    "outputId": "155e2bb5-52bc-4273-f968-767921210285"
   },
   "outputs": [],
   "source": [
    "# lemmatize, lower each word and remove duplicates\n",
    "words = [lemmatizer.lemmatize(w.lower()) for w in words if w not in ignore_words]\n",
    "words = sorted(list(set(words)))\n",
    "# sort classes\n",
    "classes = sorted(list(set(classes)))\n",
    "# documents = combination between patterns and intents\n",
    "print (len(documents), \"documents\\n\", documents, \"\\n\")\n",
    "# classes = intents[tag]\n",
    "print (len(classes), \"classes\\n\", classes, \"\\n\")\n",
    "# words = all words, vocabulary\n",
    "print (len(words), \"unique lemmatized words\\n\", words, \"\\n\")\n",
    "pickle.dump(words,open('words.pkl','wb'))\n",
    "pickle.dump(classes,open('classes.pkl','wb'))"
   ]
  },
  {
   "cell_type": "markdown",
   "metadata": {
    "_cell_guid": "05f03865-d450-44bb-b748-5b0b0833397e",
    "_uuid": "a9645ce1-cd33-42bf-8236-cfc19046ec62",
    "id": "9f8f5df3"
   },
   "source": [
    "# **Training Model**"
   ]
  },
  {
   "cell_type": "markdown",
   "metadata": {
    "_cell_guid": "ddb54623-d961-4266-8415-27a4ce3336c8",
    "_uuid": "c03d5ede-0481-4e43-a416-ad5f7d0cf439"
   },
   "source": [
    "Now, we will create the training data in which we will provide the input and the output. \n",
    "- Our input will be the pattern and output will be the class our input pattern belongs to. But the computer doesn’t understand text so we will convert text into numbers"
   ]
  },
  {
   "cell_type": "code",
   "execution_count": null,
   "metadata": {
    "_cell_guid": "f8ce5a28-9ada-4cf3-9298-d517b2d7e38a",
    "_uuid": "77e3acab-ad2b-4bc1-b313-20605a1b97b1",
    "execution": {
     "iopub.execute_input": "2023-10-16T03:02:47.273119Z",
     "iopub.status.busy": "2023-10-16T03:02:47.272278Z",
     "iopub.status.idle": "2023-10-16T03:02:47.316770Z",
     "shell.execute_reply": "2023-10-16T03:02:47.315452Z",
     "shell.execute_reply.started": "2023-10-16T03:02:47.273050Z"
    },
    "id": "d847cc41",
    "jupyter": {
     "outputs_hidden": false
    },
    "outputId": "0ca247d5-1c16-41c6-fbd8-4c22fb030298"
   },
   "outputs": [],
   "source": [
    "# create our training data\n",
    "training = []\n",
    "# create an empty array for our output\n",
    "output_empty = [0] * len(classes)\n",
    "# training set, bag of words for each sentence\n",
    "for doc in documents:\n",
    "    # initialize our bag of words\n",
    "    bag = []\n",
    "    # list of tokenized words\n",
    "    pattern_words = doc[0]\n",
    "    # convert pattern_words in lower case\n",
    "    pattern_words = [lemmatizer.lemmatize(word.lower()) for word in pattern_words]\n",
    "    # create bag of words array,if word match found in current pattern then put 1 otherwise 0.[row * colm(263)]\n",
    "    for w in words:\n",
    "        bag.append(1) if w in pattern_words else bag.append(0)\n",
    "    \n",
    "    # in output array 0 value for each tag ang 1 value for matched tag.[row * colm(8)]\n",
    "    output_row = list(output_empty)\n",
    "    output_row[classes.index(doc[1])] = 1\n",
    "    \n",
    "    training.append([bag, output_row])\n",
    "# shuffle training and turn into np.array\n",
    "random.shuffle(training)\n",
    "training = np.array(training)\n",
    "# create train and test. X - patterns(words), Y - intents(tags)\n",
    "train_x = list(training[:,0])\n",
    "train_y = list(training[:,1])\n",
    "print(\"Training data created\")"
   ]
  },
  {
   "cell_type": "code",
   "execution_count": null,
   "metadata": {
    "_cell_guid": "fcf34609-3efb-466b-8032-4f96ae9b1b99",
    "_uuid": "4c71d59b-3768-436f-96e7-163fbb04ad9c",
    "execution": {
     "iopub.execute_input": "2023-10-16T03:02:47.318589Z",
     "iopub.status.busy": "2023-10-16T03:02:47.318191Z",
     "iopub.status.idle": "2023-10-16T03:02:47.324729Z",
     "shell.execute_reply": "2023-10-16T03:02:47.323200Z",
     "shell.execute_reply.started": "2023-10-16T03:02:47.318543Z"
    },
    "id": "a002459e",
    "jupyter": {
     "outputs_hidden": false
    }
   },
   "outputs": [],
   "source": [
    "from tensorflow.python.framework import ops\n",
    "ops.reset_default_graph()"
   ]
  },
  {
   "cell_type": "markdown",
   "metadata": {
    "_cell_guid": "2114b220-fde4-418b-8b2f-a5a7a04dc7fc",
    "_uuid": "031f71b3-8a08-4325-8130-0d02bc2c1609"
   },
   "source": [
    "# **Build the model**"
   ]
  },
  {
   "cell_type": "markdown",
   "metadata": {
    "_cell_guid": "6a6e051c-0e9c-4ee5-8b7a-6f8ebdcee946",
    "_uuid": "a8dc7c1c-c487-4d63-8620-d61378ac3ebd"
   },
   "source": [
    "We have our training data ready, now we will build a deep neural network that has 3 layers. We use the Keras sequential API for this. After training the model for 200 epochs, we achieved 100% accuracy on our model. Let us save the model as ‘chatbot_model.h5'."
   ]
  },
  {
   "cell_type": "code",
   "execution_count": null,
   "metadata": {
    "_cell_guid": "4540c306-f779-4023-91e8-ac9de38e840f",
    "_uuid": "dd9ebfbd-ad59-4bec-a330-86e042995ce6",
    "execution": {
     "iopub.execute_input": "2023-10-16T03:02:47.327213Z",
     "iopub.status.busy": "2023-10-16T03:02:47.326712Z",
     "iopub.status.idle": "2023-10-16T03:02:47.503950Z",
     "shell.execute_reply": "2023-10-16T03:02:47.502634Z",
     "shell.execute_reply.started": "2023-10-16T03:02:47.327158Z"
    },
    "id": "0326b0b8",
    "jupyter": {
     "outputs_hidden": false
    },
    "outputId": "3961859b-9073-4378-fdff-bf570249b7a9"
   },
   "outputs": [],
   "source": [
    "# Create model - 3 layers. First layer 128 neurons, second layer 64 neurons and 3rd output layer contains number of neurons\n",
    "# equal to number of intents to predict output intent with softmax\n",
    "model = Sequential()\n",
    "model.add(Dense(128, input_shape=(len(train_x[0]),), activation='relu'))\n",
    "model.add(Dropout(0.5))\n",
    "model.add(Dense(64, activation='relu'))\n",
    "model.add(Dropout(0.5))\n",
    "model.add(Dense(len(train_y[0]), activation='softmax'))\n",
    "print(\"First layer:\",model.layers[0].get_weights()[0])"
   ]
  },
  {
   "cell_type": "code",
   "execution_count": null,
   "metadata": {
    "_cell_guid": "56d60d2e-8783-498e-bb7e-e97357d6252b",
    "_uuid": "b0dd4c56-959c-4dde-9f80-14ed8456d712",
    "execution": {
     "iopub.execute_input": "2023-10-16T03:02:47.506055Z",
     "iopub.status.busy": "2023-10-16T03:02:47.505584Z",
     "iopub.status.idle": "2023-10-16T03:02:47.529980Z",
     "shell.execute_reply": "2023-10-16T03:02:47.528369Z",
     "shell.execute_reply.started": "2023-10-16T03:02:47.506018Z"
    },
    "id": "33cf80df",
    "jupyter": {
     "outputs_hidden": false
    }
   },
   "outputs": [],
   "source": [
    "# Compile model. Stochastic gradient descent with Nesterov accelerated gradient gives good results for this model\n",
    "# sgd = SGD(lr=0.01, decay=1e-6, momentum=0.9, nesterov=True)\n",
    "model.compile(loss='categorical_crossentropy', optimizer='adam', metrics=['accuracy'])"
   ]
  },
  {
   "cell_type": "code",
   "execution_count": null,
   "metadata": {
    "_cell_guid": "44154d2c-7988-435c-b567-142fe9277450",
    "_uuid": "c37dd53f-3b9d-495b-92c2-6f570cf5dd31",
    "execution": {
     "iopub.execute_input": "2023-10-16T03:02:47.533016Z",
     "iopub.status.busy": "2023-10-16T03:02:47.531820Z",
     "iopub.status.idle": "2023-10-16T03:04:10.409857Z",
     "shell.execute_reply": "2023-10-16T03:04:10.408456Z",
     "shell.execute_reply.started": "2023-10-16T03:02:47.532964Z"
    },
    "id": "dd9caaa2",
    "jupyter": {
     "outputs_hidden": false
    },
    "outputId": "e1a9fb02-ea70-49ea-c742-de37f795d0c6"
   },
   "outputs": [],
   "source": [
    "#fitting and saving the model \n",
    "hist = model.fit(np.array(train_x), np.array(train_y), epochs=200, batch_size=5, verbose=1)\n",
    "model.save('chatbot_model.h5', hist)\n",
    "\n",
    "print(\"model created\")"
   ]
  },
  {
   "cell_type": "markdown",
   "metadata": {
    "_cell_guid": "9784df11-c20d-443e-8e3a-239958283c59",
    "_uuid": "0bf08217-5812-48d6-a7e5-ca0dd77102ae"
   },
   "source": [
    "# FOR PREDICTING RESPONSE\n",
    "### **You have to add or run this below script by loading model**"
   ]
  },
  {
   "cell_type": "markdown",
   "metadata": {
    "_cell_guid": "f89f581c-8117-4e04-a9b1-741ec4a4073f",
    "_uuid": "71a9e6cb-f899-40f6-8813-b5dd3c9e96a6"
   },
   "source": [
    "### **For loading saved model**\n",
    "//\n",
    "from keras.models import load_model\n",
    "\n",
    "model = load_model('chatbot_model.h5')\n",
    "//\n",
    "### **Predict the response**\n",
    "To predict the sentences and get a response from the user to let us create a new file ‘chatapp.py’.\n",
    "- We will load the trained model and then use a graphical user interface that will predict the response from the bot. The model will only tell us the class it belongs to, so we will implement some functions which will identify the class and then retrieve us a random response from the list of responses.\n",
    "- Again we import the necessary packages and load the ‘words.pkl’ and ‘classes.pkl’ pickle files which we have created when we trained our model.\n",
    "\n",
    "//---\n",
    "\n",
    "intents = json.loads(open('/kaggle/input/chatbot-dataset/intents.json').read())\n",
    "\n",
    "words = pickle.load(open('words.pkl','rb'))\n",
    "\n",
    "classes = pickle.load(open('classes.pkl','rb'))\n",
    "\n",
    "//---\n",
    "\n",
    "**To predict the class, we will need to provide input in the same way as we did while training. So we will create some functions that will perform text preprocessing and then predict the class**\n",
    "\n",
    "//----\n",
    "\n",
    "#Utility Methods\n",
    "\n",
    "def clean_up_sentence(sentence):\n",
    "    # tokenize the pattern - split words into array\n",
    "    \n",
    "    sentence_words = nltk.word_tokenize(sentence)\n",
    "    #print(sentence_words)\n",
    "    # stem each word - create short form for word\n",
    "    \n",
    "    sentence_words = [lemmatizer.lemmatize(word.lower()) for word in sentence_words]\n",
    "    #print(sentence_words)\n",
    "    \n",
    "    return sentence_words\n",
    "#return bag of words array: 0 or 1 for each word in the bag that exists in the sentence\n",
    "\n",
    "def bow(sentence, words, show_details=True):\n",
    "    # tokenize the pattern\n",
    "    \n",
    "    sentence_words = clean_up_sentence(sentence)\n",
    "    #print(sentence_words)\n",
    "    \n",
    "    # bag of words - matrix of N words, vocabulary matrix\n",
    "    \n",
    "    bag = [0]*len(words) \n",
    "    #print(bag)\n",
    "    \n",
    "    for s in sentence_words:  \n",
    "        for i,w in enumerate(words):\n",
    "            if w == s: \n",
    "                # assign 1 if current word is in the vocabulary position\n",
    "                bag[i] = 1\n",
    "                if show_details:\n",
    "                    print (\"found in bag: %s\" % w)\n",
    "                #print (\"found in bag: %s\" % w)\n",
    "    #print(bag)\n",
    "    return(np.array(bag))\n",
    "    \n",
    "def predict_class(sentence, model):\n",
    "    # filter out predictions below a threshold\n",
    "    \n",
    "    p = bow(sentence, words,show_details=False)\n",
    "    #print(p)\n",
    "    \n",
    "    res = model.predict(np.array([p]))[0]\n",
    "    #print(res)\n",
    "    \n",
    "    ERROR_THRESHOLD = 0.25\n",
    "    \n",
    "    results = [[i,r] for i,r in enumerate(res) if r>ERROR_THRESHOLD]\n",
    "    #print(results)\n",
    "    # sort by strength of probability\n",
    "    \n",
    "    results.sort(key=lambda x: x[1], reverse=True)\n",
    "    #print(results)\n",
    "    \n",
    "    return_list = []\n",
    "    \n",
    "    for r in results:\n",
    "        return_list.append({\"intent\": classes[r[0]], \"probability\": str(r[1])})\n",
    "    \n",
    "    return return_list\n",
    "    #print(return_list)\n",
    "\n",
    "//----\n",
    "\n",
    "**After predicting the class, we will get a random response from the list of intents:**\n",
    "\n",
    "//----\n",
    "\n",
    "def getResponse(ints, intents_json):\n",
    "    \n",
    "    tag = ints[0]['intent']\n",
    "    #print(tag)\n",
    "    \n",
    "    list_of_intents = intents_json['intents']\n",
    "    #print(list_of_intents)\n",
    "    \n",
    "    for i in list_of_intents:\n",
    "        if(i['tag']== tag):\n",
    "            result = random.choice(i['responses'])\n",
    "            break\n",
    "    return result\n",
    "    \n",
    "def chatbot_response(text):\n",
    "    ints = predict_class(text, model)\n",
    "    #print(ints)\n",
    "    \n",
    "    res = getResponse(ints, intents)\n",
    "    #print(res)\n",
    "    return res\n",
    "    \n",
    "//---  \n",
    "**Enter you queries**   \n",
    "//----   \n",
    "start = True\n",
    "\n",
    "while start:\n",
    "\n",
    "    query = input('Enter Message:')\n",
    "    if query in ['quit','exit','bye']:\n",
    "        start = False\n",
    "        continue\n",
    "    try:\n",
    "        res = chatbot_response(query)\n",
    "        print(res)\n",
    "    except:\n",
    "        print('You may need to rephrase your question.')\n",
    "//-----"
   ]
  },
  {
   "cell_type": "code",
   "execution_count": null,
   "metadata": {
    "_cell_guid": "972a48b1-c8f1-4aad-ab9f-25dd6cc4dc26",
    "_uuid": "84f722e2-7b8f-4d63-9b34-e02ecd6d2f9b",
    "execution": {
     "iopub.execute_input": "2023-10-16T03:04:10.414214Z",
     "iopub.status.busy": "2023-10-16T03:04:10.413829Z",
     "iopub.status.idle": "2023-10-16T03:04:10.519738Z",
     "shell.execute_reply": "2023-10-16T03:04:10.518293Z",
     "shell.execute_reply.started": "2023-10-16T03:04:10.414182Z"
    },
    "jupyter": {
     "outputs_hidden": false
    }
   },
   "outputs": [],
   "source": [
    "from keras.models import load_model\n",
    "\n",
    "model = load_model('chatbot_model.h5')"
   ]
  },
  {
   "cell_type": "code",
   "execution_count": null,
   "metadata": {
    "_cell_guid": "c553ae91-e795-471e-991a-e2aaa6c1094c",
    "_uuid": "1d5df823-27a6-4f0b-a5d4-7d5a3276eac4",
    "execution": {
     "iopub.execute_input": "2023-10-16T03:04:10.522551Z",
     "iopub.status.busy": "2023-10-16T03:04:10.521708Z",
     "iopub.status.idle": "2023-10-16T03:04:10.533254Z",
     "shell.execute_reply": "2023-10-16T03:04:10.531802Z",
     "shell.execute_reply.started": "2023-10-16T03:04:10.522497Z"
    },
    "jupyter": {
     "outputs_hidden": false
    }
   },
   "outputs": [],
   "source": [
    "intents = json.loads(open('/kaggle/input/chatbot-dataset/intents.json').read())\n",
    "\n",
    "words = pickle.load(open('words.pkl','rb'))\n",
    "\n",
    "classes = pickle.load(open('classes.pkl','rb'))"
   ]
  },
  {
   "cell_type": "code",
   "execution_count": null,
   "metadata": {
    "_cell_guid": "e81e3114-25cd-4e60-9dfd-2fe742ee388d",
    "_uuid": "09a6e8d4-bc8e-4b69-b3c2-4b5d8c4fcb66",
    "execution": {
     "iopub.execute_input": "2023-10-16T03:04:10.536255Z",
     "iopub.status.busy": "2023-10-16T03:04:10.535117Z",
     "iopub.status.idle": "2023-10-16T03:04:10.546423Z",
     "shell.execute_reply": "2023-10-16T03:04:10.544669Z",
     "shell.execute_reply.started": "2023-10-16T03:04:10.536200Z"
    },
    "jupyter": {
     "outputs_hidden": false
    }
   },
   "outputs": [],
   "source": [
    "# def clean_up_sentence(sentence): # tokenize the pattern - split words into array\n",
    "\n",
    "# sentence_words = nltk.word_tokenize(sentence)\n",
    "# #print(sentence_words)\n",
    "# # stem each word - create short form for word\n",
    "\n",
    "# sentence_words = [lemmatizer.lemmatize(word.lower()) for word in sentence_words]\n",
    "# #print(sentence_words)\n",
    "\n",
    "# return sentence_words\n",
    "import nltk\n",
    "from nltk.stem import WordNetLemmatizer\n",
    "\n",
    "lemmatizer = WordNetLemmatizer()\n",
    "\n",
    "def clean_up_sentence(sentence):\n",
    "    sentence_words = nltk.word_tokenize(sentence)\n",
    "    sentence_words = [lemmatizer.lemmatize(word.lower()) for word in sentence_words]\n",
    "    return sentence_words"
   ]
  },
  {
   "cell_type": "code",
   "execution_count": null,
   "metadata": {
    "_cell_guid": "26ff428b-7539-47e5-ba14-cb14cb6f06e6",
    "_uuid": "352adbba-63c7-4334-8250-3870f10c702e",
    "execution": {
     "iopub.execute_input": "2023-10-16T03:04:10.548846Z",
     "iopub.status.busy": "2023-10-16T03:04:10.548468Z",
     "iopub.status.idle": "2023-10-16T03:04:10.567634Z",
     "shell.execute_reply": "2023-10-16T03:04:10.566036Z",
     "shell.execute_reply.started": "2023-10-16T03:04:10.548818Z"
    },
    "jupyter": {
     "outputs_hidden": false
    }
   },
   "outputs": [],
   "source": [
    "import nltk\n",
    "from nltk.stem import WordNetLemmatizer\n",
    "\n",
    "lemmatizer = WordNetLemmatizer()\n",
    "\n",
    "def clean_up_sentence(sentence):\n",
    "    sentence_words = nltk.word_tokenize(sentence)\n",
    "    sentence_words = [lemmatizer.lemmatize(word.lower()) for word in sentence_words]\n",
    "    return sentence_words\n",
    "\n",
    "def bow(sentence, words, show_details=True):\n",
    "    sentence_words = clean_up_sentence(sentence)\n",
    "    print(sentence_words)\n",
    "\n",
    "    bag = [0]*len(words)\n",
    "    for s in sentence_words:\n",
    "        for i, w in enumerate(words):\n",
    "            if w == s:\n",
    "                bag[i] = 1\n",
    "                if show_details:\n",
    "                    print(\"found in bag: %s\" % w)\n",
    "\n",
    "    return np.array(bag)\n",
    "\n",
    "def predict_class(sentence, model):\n",
    "    p = bow(sentence, words, show_details=False)\n",
    "    print(p)\n",
    "\n",
    "    res = model.predict(np.array([p]))[0]\n",
    "    print(res)\n",
    "\n",
    "    ERROR_THRESHOLD = 0.25\n",
    "\n",
    "    results = [[i, r] for i, r in enumerate(res) if r > ERROR_THRESHOLD]\n",
    "    print(results)\n",
    "\n",
    "    results.sort(key=lambda x: x[1], reverse=True)\n",
    "    print(results)\n",
    "\n",
    "    return_list = []\n",
    "\n",
    "    for r in results:\n",
    "        return_list.append({\"intent\": classes[r[0]], \"probability\": str(r[1])})\n",
    "\n",
    "    return return_list\n",
    "    print(return_list)"
   ]
  },
  {
   "cell_type": "code",
   "execution_count": null,
   "metadata": {
    "_cell_guid": "b14d86af-f0bc-4267-b31d-777abea6692f",
    "_uuid": "83dcd461-5422-4d25-82d0-6e3d218643a4",
    "execution": {
     "iopub.execute_input": "2023-10-16T03:04:10.570341Z",
     "iopub.status.busy": "2023-10-16T03:04:10.569626Z",
     "iopub.status.idle": "2023-10-16T03:04:10.591331Z",
     "shell.execute_reply": "2023-10-16T03:04:10.589657Z",
     "shell.execute_reply.started": "2023-10-16T03:04:10.570306Z"
    },
    "jupyter": {
     "outputs_hidden": false
    }
   },
   "outputs": [],
   "source": [
    "def getResponse(ints, intents_json):\n",
    "\n",
    "    tag = ints[0]['intent']\n",
    "    #print(tag)\n",
    "\n",
    "    list_of_intents = intents_json['intents']\n",
    "    #print(list_of_intents)\n",
    "\n",
    "    for i in list_of_intents:\n",
    "        if(i['tag']== tag):\n",
    "            result = random.choice(i['responses'])\n",
    "            break\n",
    "    return result\n",
    "def chatbot_response(text):\n",
    "    ints = predict_class(text, model) #print(ints)\n",
    "\n",
    "    res = getResponse(ints, intents)\n",
    "    print(res)\n",
    "    return res"
   ]
  },
  {
   "cell_type": "code",
   "execution_count": null,
   "metadata": {
    "_cell_guid": "b518ed3b-1522-4b9c-b8a9-1908adf46f0b",
    "_uuid": "11eefe4a-b452-4dec-851a-adf52ebe5e27",
    "jupyter": {
     "outputs_hidden": false
    }
   },
   "outputs": [],
   "source": [
    "start = True\n",
    "\n",
    "while start:\n",
    "\n",
    "    query = input('Enter Message:')\n",
    "    if query in ['quit','exit','bye']:\n",
    "        start = False\n",
    "        continue\n",
    "    try:\n",
    "        print(\"User: \", query)\n",
    "        res = chatbot_response(query)\n",
    "        \n",
    "        #print(res)\n",
    "    except:\n",
    "        print('You may need to rephrase your question.')"
   ]
  }
 ],
 "metadata": {
  "kernelspec": {
   "display_name": "Python 3 (ipykernel)",
   "language": "python",
   "name": "python3"
  },
  "language_info": {
   "codemirror_mode": {
    "name": "ipython",
    "version": 3
   },
   "file_extension": ".py",
   "mimetype": "text/x-python",
   "name": "python",
   "nbconvert_exporter": "python",
   "pygments_lexer": "ipython3",
   "version": "3.10.8"
  }
 },
 "nbformat": 4,
 "nbformat_minor": 4
}
